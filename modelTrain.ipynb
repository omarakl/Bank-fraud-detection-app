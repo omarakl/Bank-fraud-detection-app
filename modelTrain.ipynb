{
  "cells": [
    {
      "cell_type": "code",
      "execution_count": null,
      "metadata": {
        "id": "JQJDvofJSH2o"
      },
      "outputs": [],
      "source": [
        "import pandas as pd\n",
        "import numpy as np\n",
        "import joblib\n",
        "from imblearn.over_sampling import SMOTE\n",
        "from sklearn.model_selection import train_test_split\n",
        "from sklearn.ensemble import RandomForestClassifier\n",
        "from sklearn.metrics import classification_report, accuracy_score\n",
        "from sklearn.preprocessing import LabelEncoder"
      ]
    },
    {
      "cell_type": "code",
      "execution_count": null,
      "metadata": {
        "id": "l_xATJozSH2r",
        "outputId": "b629563e-a4d5-45ba-fb5f-277a30dade04"
      },
      "outputs": [
        {
          "name": "stdout",
          "output_type": "stream",
          "text": [
            "Non-Fraud (0) Transactions: 6354407\n",
            "Fraud (1) Transactions: 8213\n"
          ]
        }
      ],
      "source": [
        "# Load the dataset\n",
        "df = pd.read_csv(\"Fraud.csv\")  # Replace with actual dataset file\n",
        "\n",
        "# Count occurrences of Fraud (1) and Non-Fraud (0)\n",
        "fraud_counts = df[\"isFraud\"].value_counts()\n",
        "print(f\"Non-Fraud (0) Transactions: {fraud_counts.get(0, 0)}\")\n",
        "print(f\"Fraud (1) Transactions: {fraud_counts.get(1, 0)}\")\n"
      ]
    },
    {
      "cell_type": "code",
      "execution_count": null,
      "metadata": {
        "id": "DSh_0qtDSH2s",
        "outputId": "f1af26ba-58e5-4739-d9be-a19ab483f566"
      },
      "outputs": [
        {
          "name": "stdout",
          "output_type": "stream",
          "text": [
            "Non-Fraud Percentage: 99.8709%\n",
            "Fraud Percentage: 0.1291%\n"
          ]
        }
      ],
      "source": [
        "# Display percentages\n",
        "total_transactions = df.shape[0]\n",
        "fraud_percentage = (fraud_counts.get(1, 0) / total_transactions) * 100\n",
        "non_fraud_percentage = (fraud_counts.get(0, 0) / total_transactions) * 100\n",
        "print(f\"Non-Fraud Percentage: {non_fraud_percentage:.4f}%\")\n",
        "print(f\"Fraud Percentage: {fraud_percentage:.4f}%\")"
      ]
    },
    {
      "cell_type": "code",
      "execution_count": null,
      "metadata": {
        "id": "2E-aWyNoSH2t"
      },
      "outputs": [],
      "source": [
        "# Step 1: Data Cleaning\n",
        "df = df.drop_duplicates()  # Remove duplicates\n",
        "df = df.dropna()  # Remove missing values\n",
        "\n",
        "# Step 2: Encode categorical variables\n",
        "label_encoders = {}\n",
        "for col in [\"type\", \"nameOrig\", \"nameDest\"]:\n",
        "    le = LabelEncoder()\n",
        "    df[col] = le.fit_transform(df[col])\n",
        "    label_encoders[col] = le  # Store encoders for later use"
      ]
    },
    {
      "cell_type": "code",
      "execution_count": null,
      "metadata": {
        "id": "NvnRicQMSH2t"
      },
      "outputs": [],
      "source": [
        "# Step 3: Define Features & Target\n",
        "X = df.drop(columns=[\"isFraud\"])  # Features\n",
        "y = df[\"isFraud\"]  # Target variable"
      ]
    },
    {
      "cell_type": "code",
      "execution_count": null,
      "metadata": {
        "id": "YO-2OHL1SH2u"
      },
      "outputs": [],
      "source": [
        "# Step 4: Apply SMOTE to balance the dataset\n",
        "smote = SMOTE(sampling_strategy=1.0, random_state=42)  # Make Fraud = Non-Fraud\n",
        "X_resampled, y_resampled = smote.fit_resample(X, y)"
      ]
    },
    {
      "cell_type": "code",
      "execution_count": null,
      "metadata": {
        "id": "AC-BjyWxSH2u",
        "outputId": "79f531b7-bcd4-42ab-ba68-8a2d8c53d29d"
      },
      "outputs": [
        {
          "name": "stdout",
          "output_type": "stream",
          "text": [
            "Non-Fraud (0) Transactions After SMOTE: 6354407\n",
            "Fraud (1) Transactions After SMOTE: 6354407\n",
            "Non-Fraud Percentage After SMOTE: 50.00%\n",
            "Fraud Percentage After SMOTE: 50.00%\n"
          ]
        }
      ],
      "source": [
        "# Step 4.1: Display the new class distribution after SMOTE\n",
        "fraud_counts_resampled = np.bincount(y_resampled)\n",
        "\n",
        "print(f\"Non-Fraud (0) Transactions After SMOTE: {fraud_counts_resampled[0]}\")\n",
        "print(f\"Fraud (1) Transactions After SMOTE: {fraud_counts_resampled[1]}\")\n",
        "\n",
        "# Optional: Display percentages\n",
        "total_transactions_resampled = len(y_resampled)\n",
        "fraud_percentage_resampled = (fraud_counts_resampled[1] / total_transactions_resampled) * 100\n",
        "non_fraud_percentage_resampled = (fraud_counts_resampled[0] / total_transactions_resampled) * 100\n",
        "\n",
        "print(f\"Non-Fraud Percentage After SMOTE: {non_fraud_percentage_resampled:.2f}%\")\n",
        "print(f\"Fraud Percentage After SMOTE: {fraud_percentage_resampled:.2f}%\")"
      ]
    },
    {
      "cell_type": "code",
      "execution_count": null,
      "metadata": {
        "id": "hsW3__5OSH2u"
      },
      "outputs": [],
      "source": [
        "# Step 5: Split Data into Train and Test sets\n",
        "X_train, X_test, y_train, y_test = train_test_split(X_resampled, y_resampled, test_size=0.2, random_state=42, stratify=y_resampled)"
      ]
    },
    {
      "cell_type": "code",
      "execution_count": null,
      "metadata": {
        "id": "dTGDXW63SH2u"
      },
      "outputs": [],
      "source": [
        "# Step 6: Train the Random Forest Model\n",
        "model = RandomForestClassifier(n_estimators=100, random_state=42, class_weight=\"balanced\")\n",
        "model.fit(X_train, y_train)"
      ]
    },
    {
      "cell_type": "code",
      "execution_count": null,
      "metadata": {
        "id": "zIt9KPKySH2v"
      },
      "outputs": [],
      "source": [
        "# Save the trained model & encoders\n",
        "joblib.dump(model, \"fraud_detection_model.pkl\")\n",
        "joblib.dump(label_encoders, \"label_encoders.pkl\")\n",
        "\n",
        "# Step 7: Evaluate the Model\n",
        "y_pred = model.predict(X_test)\n",
        "print(\"\\n🔍 Model Evaluation:\")\n",
        "print(f\"Accuracy: {accuracy_score(y_test, y_pred):.4f}\")\n",
        "print(\"Classification Report:\\n\", classification_report(y_test, y_pred))"
      ]
    }
  ],
  "metadata": {
    "kernelspec": {
      "display_name": "Python 3",
      "name": "python3"
    },
    "language_info": {
      "codemirror_mode": {
        "name": "ipython",
        "version": 3
      },
      "file_extension": ".py",
      "mimetype": "text/x-python",
      "name": "python",
      "nbconvert_exporter": "python",
      "pygments_lexer": "ipython3",
      "version": "3.11.0"
    },
    "colab": {
      "provenance": [],
      "gpuType": "T4"
    },
    "accelerator": "GPU"
  },
  "nbformat": 4,
  "nbformat_minor": 0
}